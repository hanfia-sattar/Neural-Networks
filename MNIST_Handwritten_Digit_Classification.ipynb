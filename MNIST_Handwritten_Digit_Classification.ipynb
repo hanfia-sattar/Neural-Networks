{
  "nbformat": 4,
  "nbformat_minor": 0,
  "metadata": {
    "colab": {
      "provenance": [],
      "gpuType": "T4",
      "authorship_tag": "ABX9TyPp84U4zwYCPbokUszBYDGV",
      "include_colab_link": true
    },
    "kernelspec": {
      "name": "python3",
      "display_name": "Python 3"
    },
    "language_info": {
      "name": "python"
    },
    "accelerator": "GPU"
  },
  "cells": [
    {
      "cell_type": "markdown",
      "metadata": {
        "id": "view-in-github",
        "colab_type": "text"
      },
      "source": [
        "<a href=\"https://colab.research.google.com/github/hanfia-sattar/Neural-Networks/blob/main/MNIST_Handwritten_Digit_Classification.ipynb\" target=\"_parent\"><img src=\"https://colab.research.google.com/assets/colab-badge.svg\" alt=\"Open In Colab\"/></a>"
      ]
    },
    {
      "cell_type": "markdown",
      "source": [
        " MNIST Handwritten Digit Classification"
      ],
      "metadata": {
        "id": "usdtVuNASTZK"
      }
    },
    {
      "cell_type": "code",
      "source": [
        "import numpy as np\n",
        "import tensorflow as tf\n",
        "from tensorflow.keras.datasets import mnist\n",
        "from tensorflow.keras.models import Sequential\n",
        "from tensorflow.keras.layers import Conv2D, MaxPooling2D, Flatten, Dense, Dropout\n",
        "from tensorflow.keras.utils import to_categorical\n",
        "from tensorflow.keras.models import load_model\n"
      ],
      "metadata": {
        "id": "ZZERhmoISW6k"
      },
      "execution_count": 5,
      "outputs": []
    },
    {
      "cell_type": "code",
      "source": [
        "# Load MNIST dataset\n",
        "(x_train, y_train), (x_test, y_test) = mnist.load_data()\n",
        "\n",
        "# Reshape data to fit the CNN input requirements (number of samples, width, height, channels)\n",
        "x_train = x_train.reshape((x_train.shape[0], 28, 28, 1))\n",
        "x_test = x_test.reshape((x_test.shape[0], 28, 28, 1))\n",
        "\n",
        "# Normalize pixel values to between 0 and 1\n",
        "x_train, x_test = x_train / 255.0, x_test / 255.0\n",
        "\n",
        "# One-hot encode the labels\n",
        "y_train = to_categorical(y_train)\n",
        "y_test = to_categorical(y_test)\n"
      ],
      "metadata": {
        "colab": {
          "base_uri": "https://localhost:8080/"
        },
        "id": "8f4pTIOySpFA",
        "outputId": "ced2d375-df7c-466d-8ba1-da0c89d47782"
      },
      "execution_count": 6,
      "outputs": [
        {
          "output_type": "stream",
          "name": "stdout",
          "text": [
            "Downloading data from https://storage.googleapis.com/tensorflow/tf-keras-datasets/mnist.npz\n",
            "\u001b[1m11490434/11490434\u001b[0m \u001b[32m━━━━━━━━━━━━━━━━━━━━\u001b[0m\u001b[37m\u001b[0m \u001b[1m2s\u001b[0m 0us/step\n"
          ]
        }
      ]
    },
    {
      "cell_type": "code",
      "source": [
        "def create_cnn_model():\n",
        "    model = Sequential([\n",
        "        # First Convolutional layer\n",
        "        Conv2D(32, kernel_size=(3, 3), activation='relu', input_shape=(28, 28, 1)),\n",
        "        MaxPooling2D(pool_size=(2, 2)),\n",
        "\n",
        "        # Second Convolutional layer\n",
        "        Conv2D(64, kernel_size=(3, 3), activation='relu'),\n",
        "        MaxPooling2D(pool_size=(2, 2)),\n",
        "\n",
        "        # Flatten layer to reshape for the fully connected layers\n",
        "        Flatten(),\n",
        "\n",
        "        # Fully connected layer\n",
        "        Dense(128, activation='relu'),\n",
        "        Dropout(0.5),\n",
        "\n",
        "        # Output layer\n",
        "        Dense(10, activation='softmax')\n",
        "    ])\n",
        "\n",
        "    return model\n",
        "\n",
        "model = create_cnn_model()\n"
      ],
      "metadata": {
        "colab": {
          "base_uri": "https://localhost:8080/"
        },
        "id": "uk-MwSW77Anq",
        "outputId": "e425e6ed-963a-4d9b-a78a-6ae2346a3c89"
      },
      "execution_count": 7,
      "outputs": [
        {
          "output_type": "stream",
          "name": "stderr",
          "text": [
            "/usr/local/lib/python3.10/dist-packages/keras/src/layers/convolutional/base_conv.py:107: UserWarning: Do not pass an `input_shape`/`input_dim` argument to a layer. When using Sequential models, prefer using an `Input(shape)` object as the first layer in the model instead.\n",
            "  super().__init__(activity_regularizer=activity_regularizer, **kwargs)\n"
          ]
        }
      ]
    },
    {
      "cell_type": "code",
      "source": [
        "model.compile(optimizer='adam',\n",
        "              loss='categorical_crossentropy',\n",
        "              metrics=['accuracy'])\n"
      ],
      "metadata": {
        "id": "IIXLHmsv7KX4"
      },
      "execution_count": 8,
      "outputs": []
    },
    {
      "cell_type": "code",
      "source": [
        "history = model.fit(x_train, y_train, epochs=10, batch_size=128,\n",
        "                    validation_data=(x_test, y_test), verbose=2)\n"
      ],
      "metadata": {
        "colab": {
          "base_uri": "https://localhost:8080/"
        },
        "id": "dfasEvWu7PAG",
        "outputId": "d75ba966-6235-4fbb-f0f3-9b02ed768940"
      },
      "execution_count": 9,
      "outputs": [
        {
          "output_type": "stream",
          "name": "stdout",
          "text": [
            "Epoch 1/10\n",
            "469/469 - 10s - 21ms/step - accuracy: 0.9155 - loss: 0.2774 - val_accuracy: 0.9830 - val_loss: 0.0555\n",
            "Epoch 2/10\n",
            "469/469 - 4s - 8ms/step - accuracy: 0.9752 - loss: 0.0857 - val_accuracy: 0.9882 - val_loss: 0.0360\n",
            "Epoch 3/10\n",
            "469/469 - 2s - 3ms/step - accuracy: 0.9807 - loss: 0.0621 - val_accuracy: 0.9903 - val_loss: 0.0299\n",
            "Epoch 4/10\n",
            "469/469 - 3s - 5ms/step - accuracy: 0.9845 - loss: 0.0520 - val_accuracy: 0.9908 - val_loss: 0.0270\n",
            "Epoch 5/10\n",
            "469/469 - 2s - 3ms/step - accuracy: 0.9861 - loss: 0.0441 - val_accuracy: 0.9916 - val_loss: 0.0257\n",
            "Epoch 6/10\n",
            "469/469 - 2s - 3ms/step - accuracy: 0.9887 - loss: 0.0372 - val_accuracy: 0.9921 - val_loss: 0.0244\n",
            "Epoch 7/10\n",
            "469/469 - 2s - 3ms/step - accuracy: 0.9893 - loss: 0.0343 - val_accuracy: 0.9911 - val_loss: 0.0244\n",
            "Epoch 8/10\n",
            "469/469 - 2s - 3ms/step - accuracy: 0.9905 - loss: 0.0297 - val_accuracy: 0.9917 - val_loss: 0.0259\n",
            "Epoch 9/10\n",
            "469/469 - 2s - 4ms/step - accuracy: 0.9916 - loss: 0.0263 - val_accuracy: 0.9915 - val_loss: 0.0288\n",
            "Epoch 10/10\n",
            "469/469 - 2s - 4ms/step - accuracy: 0.9922 - loss: 0.0258 - val_accuracy: 0.9920 - val_loss: 0.0247\n"
          ]
        }
      ]
    },
    {
      "cell_type": "code",
      "source": [
        "test_loss, test_accuracy = model.evaluate(x_test, y_test, verbose=0)\n",
        "print(f'Test accuracy: {test_accuracy:.4f}')"
      ],
      "metadata": {
        "colab": {
          "base_uri": "https://localhost:8080/"
        },
        "id": "7OdrRyPb7QTO",
        "outputId": "b7ae1571-c64e-4da4-bccf-b0a0379aa22c"
      },
      "execution_count": 12,
      "outputs": [
        {
          "output_type": "stream",
          "name": "stdout",
          "text": [
            "Test accuracy: 0.9926\n"
          ]
        }
      ]
    },
    {
      "cell_type": "code",
      "source": [
        "model.save('mnist_cnn_model.h5')"
      ],
      "metadata": {
        "colab": {
          "base_uri": "https://localhost:8080/"
        },
        "id": "uQUZ2gmB8GAK",
        "outputId": "83130a9d-85ec-41bc-f12e-3bead3cf104a"
      },
      "execution_count": 13,
      "outputs": [
        {
          "output_type": "stream",
          "name": "stderr",
          "text": [
            "WARNING:absl:You are saving your model as an HDF5 file via `model.save()` or `keras.saving.save_model(model)`. This file format is considered legacy. We recommend using instead the native Keras format, e.g. `model.save('my_model.keras')` or `keras.saving.save_model(model, 'my_model.keras')`. \n"
          ]
        }
      ]
    },
    {
      "cell_type": "code",
      "source": [
        "# Load the saved model\n",
        "loaded_model = load_model('mnist_cnn_model.h5')\n",
        "\n",
        "# Make predictions\n",
        "predictions = loaded_model.predict(x_test)\n",
        "predicted_classes = np.argmax(predictions, axis=1)\n",
        "\n",
        "# Display some predictions\n",
        "print(predicted_classes[:10])  # Show the first 10 predictions\n"
      ],
      "metadata": {
        "colab": {
          "base_uri": "https://localhost:8080/"
        },
        "id": "BBnYKcI58M4r",
        "outputId": "9f91a44d-7623-418e-fd28-41973cc11863"
      },
      "execution_count": 14,
      "outputs": [
        {
          "output_type": "stream",
          "name": "stderr",
          "text": [
            "WARNING:absl:Compiled the loaded model, but the compiled metrics have yet to be built. `model.compile_metrics` will be empty until you train or evaluate the model.\n"
          ]
        },
        {
          "output_type": "stream",
          "name": "stdout",
          "text": [
            "\u001b[1m313/313\u001b[0m \u001b[32m━━━━━━━━━━━━━━━━━━━━\u001b[0m\u001b[37m\u001b[0m \u001b[1m1s\u001b[0m 2ms/step\n",
            "[7 2 1 0 4 1 4 9 5 9]\n"
          ]
        }
      ]
    }
  ]
}